{
 "cells": [
  {
   "cell_type": "markdown",
   "id": "boolean-silly",
   "metadata": {},
   "source": [
    "# Accumulator Pattern\n",
    "\n",
    "This is the accumulator pattern."
   ]
  },
  {
   "cell_type": "code",
   "execution_count": 2,
   "id": "sorted-manhattan",
   "metadata": {},
   "outputs": [
    {
     "name": "stdout",
     "output_type": "stream",
     "text": [
      "45\n"
     ]
    }
   ],
   "source": [
    "total = 0\n",
    "\n",
    "for i in range(10):\n",
    "    total = total + i\n",
    "    \n",
    "print(total)"
   ]
  },
  {
   "cell_type": "code",
   "execution_count": null,
   "id": "twenty-camping",
   "metadata": {},
   "outputs": [],
   "source": []
  }
 ],
 "metadata": {
  "kernelspec": {
   "display_name": "Python 3",
   "language": "python",
   "name": "python3"
  },
  "language_info": {
   "codemirror_mode": {
    "name": "ipython",
    "version": 3
   },
   "file_extension": ".py",
   "mimetype": "text/x-python",
   "name": "python",
   "nbconvert_exporter": "python",
   "pygments_lexer": "ipython3",
   "version": "3.9.2"
  }
 },
 "nbformat": 4,
 "nbformat_minor": 5
}
